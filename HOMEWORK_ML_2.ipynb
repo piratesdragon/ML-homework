{
  "cells": [
    {
      "cell_type": "markdown",
      "metadata": {
        "id": "KFXtx9C2q6c6"
      },
      "source": [
        "На этом занятии мы попробуем задачу регрессии. Данные в этой же папке, будем тренироваться на датасете фильмов с IMDB"
      ]
    },
    {
      "cell_type": "markdown",
      "metadata": {
        "id": "mqzYSVtXq6dC"
      },
      "source": [
        "Перед обучением обучением модели, нужно подготовить данные:\n",
        "\n",
        "- найти\\собрать данные\n",
        "- почистить и предобработать\n",
        "- преобразовать в матрицы \n"
      ]
    },
    {
      "cell_type": "code",
      "source": [
        "!pip install gensim -U\n",
        "!pip install --upgrade numpy"
      ],
      "metadata": {
        "id": "feVtucwBq-Gl"
      },
      "execution_count": null,
      "outputs": []
    },
    {
      "cell_type": "code",
      "source": [
        "import numpy"
      ],
      "metadata": {
        "id": "K7Guc2R4rP_T"
      },
      "execution_count": 1,
      "outputs": []
    },
    {
      "cell_type": "code",
      "execution_count": 2,
      "metadata": {
        "tags": [],
        "colab": {
          "base_uri": "https://localhost:8080/"
        },
        "id": "UnfiUgNTq6dE",
        "outputId": "c739efec-86dd-47ae-bd4b-b5639bae9e18"
      },
      "outputs": [
        {
          "output_type": "stream",
          "name": "stderr",
          "text": [
            "/usr/local/lib/python3.8/dist-packages/scipy/__init__.py:146: UserWarning: A NumPy version >=1.16.5 and <1.23.0 is required for this version of SciPy (detected version 1.24.2\n",
            "  warnings.warn(f\"A NumPy version >={np_minversion} and <{np_maxversion}\"\n"
          ]
        }
      ],
      "source": [
        "# импорты необходимых библиотек\n",
        "import pandas as pd\n",
        "\n",
        "# import seaborn as sns\n",
        "import matplotlib.pyplot as plt\n",
        "# %matplotlib inline\n",
        "\n",
        "import gensim\n",
        "from gensim.models.doc2vec import Doc2Vec, TaggedDocument\n",
        "from sklearn.linear_model import LinearRegression, Ridge, Lasso\n",
        "from sklearn.preprocessing import StandardScaler\n",
        "from sklearn.model_selection import train_test_split\n",
        "from sklearn.metrics import mean_absolute_error, mean_squared_error\n"
      ]
    },
    {
      "cell_type": "code",
      "source": [
        "from google.colab import drive\n",
        "drive.mount('/content/drive')"
      ],
      "metadata": {
        "colab": {
          "base_uri": "https://localhost:8080/"
        },
        "id": "04nVEFczrbaP",
        "outputId": "d0208465-6204-4e81-9a53-5ebd5e342f05"
      },
      "execution_count": 89,
      "outputs": [
        {
          "output_type": "stream",
          "name": "stdout",
          "text": [
            "Drive already mounted at /content/drive; to attempt to forcibly remount, call drive.mount(\"/content/drive\", force_remount=True).\n"
          ]
        }
      ]
    },
    {
      "cell_type": "code",
      "execution_count": 166,
      "metadata": {
        "tags": [],
        "colab": {
          "base_uri": "https://localhost:8080/",
          "height": 309
        },
        "id": "9gNtUiSZq6dG",
        "outputId": "1220c3bd-4217-4ff0-c76f-37e2af5a22cb"
      },
      "outputs": [
        {
          "output_type": "stream",
          "name": "stdout",
          "text": [
            "(1000, 12)\n"
          ]
        },
        {
          "output_type": "execute_result",
          "data": {
            "text/plain": [
              "   Rank                    Title                     Genre  \\\n",
              "0     1  Guardians of the Galaxy   Action,Adventure,Sci-Fi   \n",
              "1     2               Prometheus  Adventure,Mystery,Sci-Fi   \n",
              "2     3                    Split           Horror,Thriller   \n",
              "\n",
              "                                         Description            Director  \\\n",
              "0  A group of intergalactic criminals are forced ...          James Gunn   \n",
              "1  Following clues to the origin of mankind, a te...        Ridley Scott   \n",
              "2  Three girls are kidnapped by a man with a diag...  M. Night Shyamalan   \n",
              "\n",
              "                                              Actors  Year  Runtime (Minutes)  \\\n",
              "0  Chris Pratt, Vin Diesel, Bradley Cooper, Zoe S...  2014                121   \n",
              "1  Noomi Rapace, Logan Marshall-Green, Michael Fa...  2012                124   \n",
              "2  James McAvoy, Anya Taylor-Joy, Haley Lu Richar...  2016                117   \n",
              "\n",
              "   Rating   Votes  Revenue (Millions)  Metascore  \n",
              "0     8.1  757074              333.13       76.0  \n",
              "1     7.0  485820              126.46       65.0  \n",
              "2     7.3  157606              138.12       62.0  "
            ],
            "text/html": [
              "\n",
              "  <div id=\"df-0c8f510f-8010-4485-bf96-0e1eba7ba015\">\n",
              "    <div class=\"colab-df-container\">\n",
              "      <div>\n",
              "<style scoped>\n",
              "    .dataframe tbody tr th:only-of-type {\n",
              "        vertical-align: middle;\n",
              "    }\n",
              "\n",
              "    .dataframe tbody tr th {\n",
              "        vertical-align: top;\n",
              "    }\n",
              "\n",
              "    .dataframe thead th {\n",
              "        text-align: right;\n",
              "    }\n",
              "</style>\n",
              "<table border=\"1\" class=\"dataframe\">\n",
              "  <thead>\n",
              "    <tr style=\"text-align: right;\">\n",
              "      <th></th>\n",
              "      <th>Rank</th>\n",
              "      <th>Title</th>\n",
              "      <th>Genre</th>\n",
              "      <th>Description</th>\n",
              "      <th>Director</th>\n",
              "      <th>Actors</th>\n",
              "      <th>Year</th>\n",
              "      <th>Runtime (Minutes)</th>\n",
              "      <th>Rating</th>\n",
              "      <th>Votes</th>\n",
              "      <th>Revenue (Millions)</th>\n",
              "      <th>Metascore</th>\n",
              "    </tr>\n",
              "  </thead>\n",
              "  <tbody>\n",
              "    <tr>\n",
              "      <th>0</th>\n",
              "      <td>1</td>\n",
              "      <td>Guardians of the Galaxy</td>\n",
              "      <td>Action,Adventure,Sci-Fi</td>\n",
              "      <td>A group of intergalactic criminals are forced ...</td>\n",
              "      <td>James Gunn</td>\n",
              "      <td>Chris Pratt, Vin Diesel, Bradley Cooper, Zoe S...</td>\n",
              "      <td>2014</td>\n",
              "      <td>121</td>\n",
              "      <td>8.1</td>\n",
              "      <td>757074</td>\n",
              "      <td>333.13</td>\n",
              "      <td>76.0</td>\n",
              "    </tr>\n",
              "    <tr>\n",
              "      <th>1</th>\n",
              "      <td>2</td>\n",
              "      <td>Prometheus</td>\n",
              "      <td>Adventure,Mystery,Sci-Fi</td>\n",
              "      <td>Following clues to the origin of mankind, a te...</td>\n",
              "      <td>Ridley Scott</td>\n",
              "      <td>Noomi Rapace, Logan Marshall-Green, Michael Fa...</td>\n",
              "      <td>2012</td>\n",
              "      <td>124</td>\n",
              "      <td>7.0</td>\n",
              "      <td>485820</td>\n",
              "      <td>126.46</td>\n",
              "      <td>65.0</td>\n",
              "    </tr>\n",
              "    <tr>\n",
              "      <th>2</th>\n",
              "      <td>3</td>\n",
              "      <td>Split</td>\n",
              "      <td>Horror,Thriller</td>\n",
              "      <td>Three girls are kidnapped by a man with a diag...</td>\n",
              "      <td>M. Night Shyamalan</td>\n",
              "      <td>James McAvoy, Anya Taylor-Joy, Haley Lu Richar...</td>\n",
              "      <td>2016</td>\n",
              "      <td>117</td>\n",
              "      <td>7.3</td>\n",
              "      <td>157606</td>\n",
              "      <td>138.12</td>\n",
              "      <td>62.0</td>\n",
              "    </tr>\n",
              "  </tbody>\n",
              "</table>\n",
              "</div>\n",
              "      <button class=\"colab-df-convert\" onclick=\"convertToInteractive('df-0c8f510f-8010-4485-bf96-0e1eba7ba015')\"\n",
              "              title=\"Convert this dataframe to an interactive table.\"\n",
              "              style=\"display:none;\">\n",
              "        \n",
              "  <svg xmlns=\"http://www.w3.org/2000/svg\" height=\"24px\"viewBox=\"0 0 24 24\"\n",
              "       width=\"24px\">\n",
              "    <path d=\"M0 0h24v24H0V0z\" fill=\"none\"/>\n",
              "    <path d=\"M18.56 5.44l.94 2.06.94-2.06 2.06-.94-2.06-.94-.94-2.06-.94 2.06-2.06.94zm-11 1L8.5 8.5l.94-2.06 2.06-.94-2.06-.94L8.5 2.5l-.94 2.06-2.06.94zm10 10l.94 2.06.94-2.06 2.06-.94-2.06-.94-.94-2.06-.94 2.06-2.06.94z\"/><path d=\"M17.41 7.96l-1.37-1.37c-.4-.4-.92-.59-1.43-.59-.52 0-1.04.2-1.43.59L10.3 9.45l-7.72 7.72c-.78.78-.78 2.05 0 2.83L4 21.41c.39.39.9.59 1.41.59.51 0 1.02-.2 1.41-.59l7.78-7.78 2.81-2.81c.8-.78.8-2.07 0-2.86zM5.41 20L4 18.59l7.72-7.72 1.47 1.35L5.41 20z\"/>\n",
              "  </svg>\n",
              "      </button>\n",
              "      \n",
              "  <style>\n",
              "    .colab-df-container {\n",
              "      display:flex;\n",
              "      flex-wrap:wrap;\n",
              "      gap: 12px;\n",
              "    }\n",
              "\n",
              "    .colab-df-convert {\n",
              "      background-color: #E8F0FE;\n",
              "      border: none;\n",
              "      border-radius: 50%;\n",
              "      cursor: pointer;\n",
              "      display: none;\n",
              "      fill: #1967D2;\n",
              "      height: 32px;\n",
              "      padding: 0 0 0 0;\n",
              "      width: 32px;\n",
              "    }\n",
              "\n",
              "    .colab-df-convert:hover {\n",
              "      background-color: #E2EBFA;\n",
              "      box-shadow: 0px 1px 2px rgba(60, 64, 67, 0.3), 0px 1px 3px 1px rgba(60, 64, 67, 0.15);\n",
              "      fill: #174EA6;\n",
              "    }\n",
              "\n",
              "    [theme=dark] .colab-df-convert {\n",
              "      background-color: #3B4455;\n",
              "      fill: #D2E3FC;\n",
              "    }\n",
              "\n",
              "    [theme=dark] .colab-df-convert:hover {\n",
              "      background-color: #434B5C;\n",
              "      box-shadow: 0px 1px 3px 1px rgba(0, 0, 0, 0.15);\n",
              "      filter: drop-shadow(0px 1px 2px rgba(0, 0, 0, 0.3));\n",
              "      fill: #FFFFFF;\n",
              "    }\n",
              "  </style>\n",
              "\n",
              "      <script>\n",
              "        const buttonEl =\n",
              "          document.querySelector('#df-0c8f510f-8010-4485-bf96-0e1eba7ba015 button.colab-df-convert');\n",
              "        buttonEl.style.display =\n",
              "          google.colab.kernel.accessAllowed ? 'block' : 'none';\n",
              "\n",
              "        async function convertToInteractive(key) {\n",
              "          const element = document.querySelector('#df-0c8f510f-8010-4485-bf96-0e1eba7ba015');\n",
              "          const dataTable =\n",
              "            await google.colab.kernel.invokeFunction('convertToInteractive',\n",
              "                                                     [key], {});\n",
              "          if (!dataTable) return;\n",
              "\n",
              "          const docLinkHtml = 'Like what you see? Visit the ' +\n",
              "            '<a target=\"_blank\" href=https://colab.research.google.com/notebooks/data_table.ipynb>data table notebook</a>'\n",
              "            + ' to learn more about interactive tables.';\n",
              "          element.innerHTML = '';\n",
              "          dataTable['output_type'] = 'display_data';\n",
              "          await google.colab.output.renderOutput(dataTable, element);\n",
              "          const docLink = document.createElement('div');\n",
              "          docLink.innerHTML = docLinkHtml;\n",
              "          element.appendChild(docLink);\n",
              "        }\n",
              "      </script>\n",
              "    </div>\n",
              "  </div>\n",
              "  "
            ]
          },
          "metadata": {},
          "execution_count": 166
        }
      ],
      "source": [
        "data = pd.read_csv('/content/drive/MyDrive/IMDB-Movie-Data.csv')\n",
        "print(data.shape)\n",
        "\n",
        "data.head(3)"
      ]
    },
    {
      "cell_type": "markdown",
      "metadata": {
        "id": "y0vWWAilq6dI"
      },
      "source": [
        "## Что делать с NaN?\n",
        "Есть 3 варианта"
      ]
    },
    {
      "cell_type": "code",
      "execution_count": null,
      "metadata": {
        "id": "1_1x1aMtq6dI"
      },
      "outputs": [],
      "source": [
        "# 1. Убрать строки с NaN\n",
        "print(data.isna().any())\n",
        "data.shape"
      ]
    },
    {
      "cell_type": "code",
      "execution_count": null,
      "metadata": {
        "id": "Rw90sISEq6dK"
      },
      "outputs": [],
      "source": [
        "print(data.shape)\n",
        "tmp = data.dropna()\n",
        "tmp.shape"
      ]
    },
    {
      "cell_type": "code",
      "execution_count": null,
      "metadata": {
        "id": "4FWqXc6nq6dL"
      },
      "outputs": [],
      "source": [
        "# 2. Превратить NaN в 0\n",
        "print(data.shape)\n",
        "tmp = data.fillna(0)\n",
        "print(tmp.shape)"
      ]
    },
    {
      "cell_type": "code",
      "execution_count": 167,
      "metadata": {
        "tags": [],
        "colab": {
          "base_uri": "https://localhost:8080/"
        },
        "id": "t7ro-5Opq6dM",
        "outputId": "e202e11c-32a7-4914-9526-6816d0c029bf"
      },
      "outputs": [
        {
          "output_type": "execute_result",
          "data": {
            "text/plain": [
              "Rank                  False\n",
              "Title                 False\n",
              "Genre                 False\n",
              "Description           False\n",
              "Director              False\n",
              "Actors                False\n",
              "Year                  False\n",
              "Runtime (Minutes)     False\n",
              "Rating                False\n",
              "Votes                 False\n",
              "Revenue (Millions)    False\n",
              "Metascore             False\n",
              "dtype: bool"
            ]
          },
          "metadata": {},
          "execution_count": 167
        }
      ],
      "source": [
        "# 3. Превратить NaN в средние значения по колонке\n",
        "\n",
        "# вычисляем средние для колонок с пустыми значениями\n",
        "meta_mean = data.Metascore.mean()\n",
        "rev_mean = data['Revenue (Millions)'].mean()\n",
        "\n",
        "#заменяем пустоты на средние значения\n",
        "data.Metascore.fillna(meta_mean, inplace=True)\n",
        "data['Revenue (Millions)'].fillna(rev_mean, inplace=True)\n",
        "\n",
        "# проверяем присутствие NaN\n",
        "data.isna().any()"
      ]
    },
    {
      "cell_type": "markdown",
      "metadata": {
        "id": "SAUnlHUwq6dN"
      },
      "source": [
        "## Подготовка данных\n",
        "\n",
        "Попробуем предсказывать рейтинг фильма по данным его описания, года, длины в минутах и кассовых сборов\n",
        "\n",
        "Колонка \"Rating\" станет **целевой переменной, или таргетом** (y)<br>\n",
        "Остальных данные будут **обучающей выборкой** (X)"
      ]
    },
    {
      "cell_type": "code",
      "execution_count": 6,
      "metadata": {
        "colab": {
          "base_uri": "https://localhost:8080/"
        },
        "id": "UX1tB8lNq6dO",
        "outputId": "8881631a-7c70-4b52-8e8a-eff21f0f5ca3"
      },
      "outputs": [
        {
          "output_type": "execute_result",
          "data": {
            "text/plain": [
              "0      A group of intergalactic criminals are forced ...\n",
              "1      Following clues to the origin of mankind, a te...\n",
              "2      Three girls are kidnapped by a man with a diag...\n",
              "3      In a city of humanoid animals, a hustling thea...\n",
              "4      A secret government agency recruits some of th...\n",
              "                             ...                        \n",
              "995    A tight-knit team of rising investigators, alo...\n",
              "996    Three American college students studying abroa...\n",
              "997    Romantic sparks occur between two dance studen...\n",
              "998    A pair of friends embark on a mission to reuni...\n",
              "999    A stuffy businessman finds himself trapped ins...\n",
              "Name: Description, Length: 1000, dtype: object"
            ]
          },
          "metadata": {},
          "execution_count": 6
        }
      ],
      "source": [
        "data.Description"
      ]
    },
    {
      "cell_type": "code",
      "execution_count": 168,
      "metadata": {
        "tags": [],
        "colab": {
          "base_uri": "https://localhost:8080/"
        },
        "id": "KqtPUx6hq6dP",
        "outputId": "5ff28bb2-c959-4af2-dc81-de602ba05178"
      },
      "outputs": [
        {
          "output_type": "execute_result",
          "data": {
            "text/plain": [
              "0      [a, group, of, intergalactic, criminals, are, ...\n",
              "1      [following, clues, to, the, origin, of, mankin...\n",
              "2      [three, girls, are, kidnapped, by, a, man, wit...\n",
              "3      [in, a, city, of, humanoid, animals,, a, hustl...\n",
              "4      [a, secret, government, agency, recruits, some...\n",
              "                             ...                        \n",
              "995    [a, tight-knit, team, of, rising, investigator...\n",
              "996    [three, american, college, students, studying,...\n",
              "997    [romantic, sparks, occur, between, two, dance,...\n",
              "998    [a, pair, of, friends, embark, on, a, mission,...\n",
              "999    [a, stuffy, businessman, finds, himself, trapp...\n",
              "Name: text, Length: 1000, dtype: object"
            ]
          },
          "metadata": {},
          "execution_count": 168
        }
      ],
      "source": [
        "# подготовим описания фильмов\n",
        "data[\"text\"] = data.Description.apply(lambda x: x.lower().split()) \n",
        "\n",
        "data[\"text\"]"
      ]
    },
    {
      "cell_type": "code",
      "execution_count": null,
      "metadata": {
        "tags": [],
        "id": "ilPO8ETlq6dQ"
      },
      "outputs": [],
      "source": [
        "data.text.values"
      ]
    },
    {
      "cell_type": "code",
      "execution_count": 169,
      "metadata": {
        "tags": [],
        "id": "_lmvSuLDq6dQ"
      },
      "outputs": [],
      "source": [
        "input_text = list(data.text.values)"
      ]
    },
    {
      "cell_type": "code",
      "execution_count": 170,
      "metadata": {
        "tags": [],
        "colab": {
          "base_uri": "https://localhost:8080/"
        },
        "id": "KPhZ0fzVq6dQ",
        "outputId": "04cf56ed-0463-4f07-895f-3d7aeee624b0"
      },
      "outputs": [
        {
          "output_type": "execute_result",
          "data": {
            "text/plain": [
              "[TaggedDocument(words=['the', 'adventures', 'of', 'writer', 'newt', 'scamander', 'in', 'new', \"york's\", 'secret', 'community', 'of', 'witches', 'and', 'wizards', 'seventy', 'years', 'before', 'harry', 'potter', 'reads', 'his', 'book', 'in', 'school.'], tags=[10]),\n",
              " TaggedDocument(words=['the', 'story', 'of', 'a', 'team', 'of', 'female', 'african-american', 'mathematicians', 'who', 'served', 'a', 'vital', 'role', 'in', 'nasa', 'during', 'the', 'early', 'years', 'of', 'the', 'u.s.', 'space', 'program.'], tags=[11])]"
            ]
          },
          "metadata": {},
          "execution_count": 170
        }
      ],
      "source": [
        "documents = [TaggedDocument(doc, [i]) for i, doc in enumerate(input_text)]\n",
        "documents[10:12]"
      ]
    },
    {
      "cell_type": "markdown",
      "metadata": {
        "id": "nchVL0uqq6dR"
      },
      "source": [
        "обучаем модель на текстах описаний фильмов (можно поизменять параметры)"
      ]
    },
    {
      "cell_type": "code",
      "execution_count": 95,
      "metadata": {
        "id": "l1D6MUtGq6dR"
      },
      "outputs": [],
      "source": [
        "model = Doc2Vec(documents, vector_size=5, window=2, min_count=1, workers=4)"
      ]
    },
    {
      "cell_type": "code",
      "execution_count": 96,
      "metadata": {
        "id": "kbBJRIASq6dS"
      },
      "outputs": [],
      "source": [
        "model.save(\"D2V.model\") # сохранение модели"
      ]
    },
    {
      "cell_type": "code",
      "execution_count": 97,
      "metadata": {
        "colab": {
          "base_uri": "https://localhost:8080/"
        },
        "id": "peP4jJIVq6dS",
        "outputId": "42a9e038-63d2-4460-e08c-be19e3c67d94"
      },
      "outputs": [
        {
          "output_type": "execute_result",
          "data": {
            "text/plain": [
              "array([-0.02176344,  0.10645068, -0.12121619, -0.07537015,  0.01603152],\n",
              "      dtype=float32)"
            ]
          },
          "metadata": {},
          "execution_count": 97
        }
      ],
      "source": [
        "# так можно посмотреть на векторы текстов, на которых училась модель\n",
        "# индекс [] около documents -- это индекс текста из датасета\n",
        "\n",
        "model.dv[documents[0].tags[0]]\n"
      ]
    },
    {
      "cell_type": "markdown",
      "metadata": {
        "id": "pf86E33Oq6dT"
      },
      "source": [
        "Теперь нужно добавить векторы в датасет с остальными параметрами"
      ]
    },
    {
      "cell_type": "code",
      "execution_count": 98,
      "metadata": {
        "id": "AJ8JWk4Uq6dT"
      },
      "outputs": [],
      "source": [
        "# создадим список с векторами для каждого текста\n",
        "vectors = []\n",
        "for x in documents:\n",
        "    vec = list(model.dv[x.tags][0])\n",
        "    vectors.append(vec)"
      ]
    },
    {
      "cell_type": "code",
      "execution_count": 99,
      "metadata": {
        "tags": [],
        "colab": {
          "base_uri": "https://localhost:8080/",
          "height": 423
        },
        "id": "Je90Xcmwq6dU",
        "outputId": "6c12fb02-8d7e-4330-f8b2-29fd4c1734eb"
      },
      "outputs": [
        {
          "output_type": "execute_result",
          "data": {
            "text/plain": [
              "           v1        v2        v3        v4        v5\n",
              "0   -0.021763  0.106451 -0.121216 -0.075370  0.016032\n",
              "1    0.081098  0.017959 -0.019524 -0.427588  0.001407\n",
              "2    0.215759  0.485485  0.027760 -0.473435 -0.153536\n",
              "3   -0.027700  0.442416  0.305442 -0.608460 -0.164788\n",
              "4    0.082145  0.483151  0.022781 -0.404735 -0.002980\n",
              "..        ...       ...       ...       ...       ...\n",
              "995  0.293254  0.515370  0.084858 -0.418623 -0.215410\n",
              "996  0.033281  0.526380  0.168328 -0.562434  0.007402\n",
              "997 -0.100525  0.358681 -0.002413 -0.007090 -0.205610\n",
              "998 -0.008109  0.250834  0.148509 -0.186417 -0.079836\n",
              "999 -0.031079  0.250417  0.155650 -0.427936  0.040725\n",
              "\n",
              "[1000 rows x 5 columns]"
            ],
            "text/html": [
              "\n",
              "  <div id=\"df-94794e76-6e41-42a3-986a-1c840c487209\">\n",
              "    <div class=\"colab-df-container\">\n",
              "      <div>\n",
              "<style scoped>\n",
              "    .dataframe tbody tr th:only-of-type {\n",
              "        vertical-align: middle;\n",
              "    }\n",
              "\n",
              "    .dataframe tbody tr th {\n",
              "        vertical-align: top;\n",
              "    }\n",
              "\n",
              "    .dataframe thead th {\n",
              "        text-align: right;\n",
              "    }\n",
              "</style>\n",
              "<table border=\"1\" class=\"dataframe\">\n",
              "  <thead>\n",
              "    <tr style=\"text-align: right;\">\n",
              "      <th></th>\n",
              "      <th>v1</th>\n",
              "      <th>v2</th>\n",
              "      <th>v3</th>\n",
              "      <th>v4</th>\n",
              "      <th>v5</th>\n",
              "    </tr>\n",
              "  </thead>\n",
              "  <tbody>\n",
              "    <tr>\n",
              "      <th>0</th>\n",
              "      <td>-0.021763</td>\n",
              "      <td>0.106451</td>\n",
              "      <td>-0.121216</td>\n",
              "      <td>-0.075370</td>\n",
              "      <td>0.016032</td>\n",
              "    </tr>\n",
              "    <tr>\n",
              "      <th>1</th>\n",
              "      <td>0.081098</td>\n",
              "      <td>0.017959</td>\n",
              "      <td>-0.019524</td>\n",
              "      <td>-0.427588</td>\n",
              "      <td>0.001407</td>\n",
              "    </tr>\n",
              "    <tr>\n",
              "      <th>2</th>\n",
              "      <td>0.215759</td>\n",
              "      <td>0.485485</td>\n",
              "      <td>0.027760</td>\n",
              "      <td>-0.473435</td>\n",
              "      <td>-0.153536</td>\n",
              "    </tr>\n",
              "    <tr>\n",
              "      <th>3</th>\n",
              "      <td>-0.027700</td>\n",
              "      <td>0.442416</td>\n",
              "      <td>0.305442</td>\n",
              "      <td>-0.608460</td>\n",
              "      <td>-0.164788</td>\n",
              "    </tr>\n",
              "    <tr>\n",
              "      <th>4</th>\n",
              "      <td>0.082145</td>\n",
              "      <td>0.483151</td>\n",
              "      <td>0.022781</td>\n",
              "      <td>-0.404735</td>\n",
              "      <td>-0.002980</td>\n",
              "    </tr>\n",
              "    <tr>\n",
              "      <th>...</th>\n",
              "      <td>...</td>\n",
              "      <td>...</td>\n",
              "      <td>...</td>\n",
              "      <td>...</td>\n",
              "      <td>...</td>\n",
              "    </tr>\n",
              "    <tr>\n",
              "      <th>995</th>\n",
              "      <td>0.293254</td>\n",
              "      <td>0.515370</td>\n",
              "      <td>0.084858</td>\n",
              "      <td>-0.418623</td>\n",
              "      <td>-0.215410</td>\n",
              "    </tr>\n",
              "    <tr>\n",
              "      <th>996</th>\n",
              "      <td>0.033281</td>\n",
              "      <td>0.526380</td>\n",
              "      <td>0.168328</td>\n",
              "      <td>-0.562434</td>\n",
              "      <td>0.007402</td>\n",
              "    </tr>\n",
              "    <tr>\n",
              "      <th>997</th>\n",
              "      <td>-0.100525</td>\n",
              "      <td>0.358681</td>\n",
              "      <td>-0.002413</td>\n",
              "      <td>-0.007090</td>\n",
              "      <td>-0.205610</td>\n",
              "    </tr>\n",
              "    <tr>\n",
              "      <th>998</th>\n",
              "      <td>-0.008109</td>\n",
              "      <td>0.250834</td>\n",
              "      <td>0.148509</td>\n",
              "      <td>-0.186417</td>\n",
              "      <td>-0.079836</td>\n",
              "    </tr>\n",
              "    <tr>\n",
              "      <th>999</th>\n",
              "      <td>-0.031079</td>\n",
              "      <td>0.250417</td>\n",
              "      <td>0.155650</td>\n",
              "      <td>-0.427936</td>\n",
              "      <td>0.040725</td>\n",
              "    </tr>\n",
              "  </tbody>\n",
              "</table>\n",
              "<p>1000 rows × 5 columns</p>\n",
              "</div>\n",
              "      <button class=\"colab-df-convert\" onclick=\"convertToInteractive('df-94794e76-6e41-42a3-986a-1c840c487209')\"\n",
              "              title=\"Convert this dataframe to an interactive table.\"\n",
              "              style=\"display:none;\">\n",
              "        \n",
              "  <svg xmlns=\"http://www.w3.org/2000/svg\" height=\"24px\"viewBox=\"0 0 24 24\"\n",
              "       width=\"24px\">\n",
              "    <path d=\"M0 0h24v24H0V0z\" fill=\"none\"/>\n",
              "    <path d=\"M18.56 5.44l.94 2.06.94-2.06 2.06-.94-2.06-.94-.94-2.06-.94 2.06-2.06.94zm-11 1L8.5 8.5l.94-2.06 2.06-.94-2.06-.94L8.5 2.5l-.94 2.06-2.06.94zm10 10l.94 2.06.94-2.06 2.06-.94-2.06-.94-.94-2.06-.94 2.06-2.06.94z\"/><path d=\"M17.41 7.96l-1.37-1.37c-.4-.4-.92-.59-1.43-.59-.52 0-1.04.2-1.43.59L10.3 9.45l-7.72 7.72c-.78.78-.78 2.05 0 2.83L4 21.41c.39.39.9.59 1.41.59.51 0 1.02-.2 1.41-.59l7.78-7.78 2.81-2.81c.8-.78.8-2.07 0-2.86zM5.41 20L4 18.59l7.72-7.72 1.47 1.35L5.41 20z\"/>\n",
              "  </svg>\n",
              "      </button>\n",
              "      \n",
              "  <style>\n",
              "    .colab-df-container {\n",
              "      display:flex;\n",
              "      flex-wrap:wrap;\n",
              "      gap: 12px;\n",
              "    }\n",
              "\n",
              "    .colab-df-convert {\n",
              "      background-color: #E8F0FE;\n",
              "      border: none;\n",
              "      border-radius: 50%;\n",
              "      cursor: pointer;\n",
              "      display: none;\n",
              "      fill: #1967D2;\n",
              "      height: 32px;\n",
              "      padding: 0 0 0 0;\n",
              "      width: 32px;\n",
              "    }\n",
              "\n",
              "    .colab-df-convert:hover {\n",
              "      background-color: #E2EBFA;\n",
              "      box-shadow: 0px 1px 2px rgba(60, 64, 67, 0.3), 0px 1px 3px 1px rgba(60, 64, 67, 0.15);\n",
              "      fill: #174EA6;\n",
              "    }\n",
              "\n",
              "    [theme=dark] .colab-df-convert {\n",
              "      background-color: #3B4455;\n",
              "      fill: #D2E3FC;\n",
              "    }\n",
              "\n",
              "    [theme=dark] .colab-df-convert:hover {\n",
              "      background-color: #434B5C;\n",
              "      box-shadow: 0px 1px 3px 1px rgba(0, 0, 0, 0.15);\n",
              "      filter: drop-shadow(0px 1px 2px rgba(0, 0, 0, 0.3));\n",
              "      fill: #FFFFFF;\n",
              "    }\n",
              "  </style>\n",
              "\n",
              "      <script>\n",
              "        const buttonEl =\n",
              "          document.querySelector('#df-94794e76-6e41-42a3-986a-1c840c487209 button.colab-df-convert');\n",
              "        buttonEl.style.display =\n",
              "          google.colab.kernel.accessAllowed ? 'block' : 'none';\n",
              "\n",
              "        async function convertToInteractive(key) {\n",
              "          const element = document.querySelector('#df-94794e76-6e41-42a3-986a-1c840c487209');\n",
              "          const dataTable =\n",
              "            await google.colab.kernel.invokeFunction('convertToInteractive',\n",
              "                                                     [key], {});\n",
              "          if (!dataTable) return;\n",
              "\n",
              "          const docLinkHtml = 'Like what you see? Visit the ' +\n",
              "            '<a target=\"_blank\" href=https://colab.research.google.com/notebooks/data_table.ipynb>data table notebook</a>'\n",
              "            + ' to learn more about interactive tables.';\n",
              "          element.innerHTML = '';\n",
              "          dataTable['output_type'] = 'display_data';\n",
              "          await google.colab.output.renderOutput(dataTable, element);\n",
              "          const docLink = document.createElement('div');\n",
              "          docLink.innerHTML = docLinkHtml;\n",
              "          element.appendChild(docLink);\n",
              "        }\n",
              "      </script>\n",
              "    </div>\n",
              "  </div>\n",
              "  "
            ]
          },
          "metadata": {},
          "execution_count": 99
        }
      ],
      "source": [
        "# так получим датафрейм, где все компоненты векторов в отдельных столбцах\n",
        "split_df = pd.DataFrame(vectors,\n",
        "                        columns=['v1', 'v2', 'v3','v4',\"v5\"])\n",
        "\n",
        "split_df\n"
      ]
    },
    {
      "cell_type": "code",
      "execution_count": 100,
      "metadata": {
        "colab": {
          "base_uri": "https://localhost:8080/"
        },
        "id": "4xzri1Opq6dU",
        "outputId": "6fa9e822-835e-43b4-a5d6-619587091526"
      },
      "outputs": [
        {
          "output_type": "execute_result",
          "data": {
            "text/plain": [
              "(1000, 18)"
            ]
          },
          "metadata": {},
          "execution_count": 100
        }
      ],
      "source": [
        "# теперь добавим его к основному датафрейму\n",
        "result = data.join(split_df, how='left')\n",
        "result.shape"
      ]
    },
    {
      "cell_type": "code",
      "execution_count": 17,
      "metadata": {
        "colab": {
          "base_uri": "https://localhost:8080/",
          "height": 1000
        },
        "id": "C9XNFg17q6dU",
        "outputId": "12f6a305-bb61-4ea2-8c70-8608f5326f8c"
      },
      "outputs": [
        {
          "output_type": "execute_result",
          "data": {
            "text/plain": [
              "     Rank                    Title                     Genre  \\\n",
              "0       1  Guardians of the Galaxy   Action,Adventure,Sci-Fi   \n",
              "1       2               Prometheus  Adventure,Mystery,Sci-Fi   \n",
              "2       3                    Split           Horror,Thriller   \n",
              "3       4                     Sing   Animation,Comedy,Family   \n",
              "4       5            Suicide Squad  Action,Adventure,Fantasy   \n",
              "..    ...                      ...                       ...   \n",
              "995   996     Secret in Their Eyes       Crime,Drama,Mystery   \n",
              "996   997          Hostel: Part II                    Horror   \n",
              "997   998   Step Up 2: The Streets       Drama,Music,Romance   \n",
              "998   999             Search Party          Adventure,Comedy   \n",
              "999  1000               Nine Lives     Comedy,Family,Fantasy   \n",
              "\n",
              "                                           Description              Director  \\\n",
              "0    A group of intergalactic criminals are forced ...            James Gunn   \n",
              "1    Following clues to the origin of mankind, a te...          Ridley Scott   \n",
              "2    Three girls are kidnapped by a man with a diag...    M. Night Shyamalan   \n",
              "3    In a city of humanoid animals, a hustling thea...  Christophe Lourdelet   \n",
              "4    A secret government agency recruits some of th...            David Ayer   \n",
              "..                                                 ...                   ...   \n",
              "995  A tight-knit team of rising investigators, alo...             Billy Ray   \n",
              "996  Three American college students studying abroa...              Eli Roth   \n",
              "997  Romantic sparks occur between two dance studen...            Jon M. Chu   \n",
              "998  A pair of friends embark on a mission to reuni...        Scot Armstrong   \n",
              "999  A stuffy businessman finds himself trapped ins...      Barry Sonnenfeld   \n",
              "\n",
              "                                                Actors  Year  \\\n",
              "0    Chris Pratt, Vin Diesel, Bradley Cooper, Zoe S...  2014   \n",
              "1    Noomi Rapace, Logan Marshall-Green, Michael Fa...  2012   \n",
              "2    James McAvoy, Anya Taylor-Joy, Haley Lu Richar...  2016   \n",
              "3    Matthew McConaughey,Reese Witherspoon, Seth Ma...  2016   \n",
              "4    Will Smith, Jared Leto, Margot Robbie, Viola D...  2016   \n",
              "..                                                 ...   ...   \n",
              "995  Chiwetel Ejiofor, Nicole Kidman, Julia Roberts...  2015   \n",
              "996  Lauren German, Heather Matarazzo, Bijou Philli...  2007   \n",
              "997  Robert Hoffman, Briana Evigan, Cassie Ventura,...  2008   \n",
              "998  Adam Pally, T.J. Miller, Thomas Middleditch,Sh...  2014   \n",
              "999  Kevin Spacey, Jennifer Garner, Robbie Amell,Ch...  2016   \n",
              "\n",
              "     Runtime (Minutes)  Rating   Votes  Revenue (Millions)  Metascore  \\\n",
              "0                  121     8.1  757074          333.130000       76.0   \n",
              "1                  124     7.0  485820          126.460000       65.0   \n",
              "2                  117     7.3  157606          138.120000       62.0   \n",
              "3                  108     7.2   60545          270.320000       59.0   \n",
              "4                  123     6.2  393727          325.020000       40.0   \n",
              "..                 ...     ...     ...                 ...        ...   \n",
              "995                111     6.2   27585           82.956376       45.0   \n",
              "996                 94     5.5   73152           17.540000       46.0   \n",
              "997                 98     6.2   70699           58.010000       50.0   \n",
              "998                 93     5.6    4881           82.956376       22.0   \n",
              "999                 87     5.3   12435           19.640000       11.0   \n",
              "\n",
              "                                                  text        v1        v2  \\\n",
              "0    [a, group, of, intergalactic, criminals, are, ... -0.050145 -0.011905   \n",
              "1    [following, clues, to, the, origin, of, mankin...  0.083701 -0.031407   \n",
              "2    [three, girls, are, kidnapped, by, a, man, wit...  0.157337  0.295756   \n",
              "3    [in, a, city, of, humanoid, animals,, a, hustl... -0.049044  0.332151   \n",
              "4    [a, secret, government, agency, recruits, some...  0.036583  0.311901   \n",
              "..                                                 ...       ...       ...   \n",
              "995  [a, tight-knit, team, of, rising, investigator...  0.253390  0.384887   \n",
              "996  [three, american, college, students, studying,... -0.033330  0.325146   \n",
              "997  [romantic, sparks, occur, between, two, dance,... -0.108421  0.320174   \n",
              "998  [a, pair, of, friends, embark, on, a, mission,... -0.030535  0.166419   \n",
              "999  [a, stuffy, businessman, finds, himself, trapp... -0.079130  0.108549   \n",
              "\n",
              "           v3        v4        v5  \n",
              "0   -0.108754 -0.055358  0.079037  \n",
              "1    0.017762 -0.531490  0.075088  \n",
              "2    0.053068 -0.470184 -0.028435  \n",
              "3    0.387964 -0.781172 -0.029383  \n",
              "4    0.075132 -0.485156  0.149358  \n",
              "..        ...       ...       ...  \n",
              "995  0.134213 -0.494408 -0.092510  \n",
              "996  0.195590 -0.547036  0.149406  \n",
              "997  0.052072 -0.140763 -0.129928  \n",
              "998  0.165587 -0.180988 -0.021532  \n",
              "999  0.155845 -0.394734  0.121432  \n",
              "\n",
              "[1000 rows x 18 columns]"
            ],
            "text/html": [
              "\n",
              "  <div id=\"df-58e772d2-0762-49c3-b702-77dba3de9271\">\n",
              "    <div class=\"colab-df-container\">\n",
              "      <div>\n",
              "<style scoped>\n",
              "    .dataframe tbody tr th:only-of-type {\n",
              "        vertical-align: middle;\n",
              "    }\n",
              "\n",
              "    .dataframe tbody tr th {\n",
              "        vertical-align: top;\n",
              "    }\n",
              "\n",
              "    .dataframe thead th {\n",
              "        text-align: right;\n",
              "    }\n",
              "</style>\n",
              "<table border=\"1\" class=\"dataframe\">\n",
              "  <thead>\n",
              "    <tr style=\"text-align: right;\">\n",
              "      <th></th>\n",
              "      <th>Rank</th>\n",
              "      <th>Title</th>\n",
              "      <th>Genre</th>\n",
              "      <th>Description</th>\n",
              "      <th>Director</th>\n",
              "      <th>Actors</th>\n",
              "      <th>Year</th>\n",
              "      <th>Runtime (Minutes)</th>\n",
              "      <th>Rating</th>\n",
              "      <th>Votes</th>\n",
              "      <th>Revenue (Millions)</th>\n",
              "      <th>Metascore</th>\n",
              "      <th>text</th>\n",
              "      <th>v1</th>\n",
              "      <th>v2</th>\n",
              "      <th>v3</th>\n",
              "      <th>v4</th>\n",
              "      <th>v5</th>\n",
              "    </tr>\n",
              "  </thead>\n",
              "  <tbody>\n",
              "    <tr>\n",
              "      <th>0</th>\n",
              "      <td>1</td>\n",
              "      <td>Guardians of the Galaxy</td>\n",
              "      <td>Action,Adventure,Sci-Fi</td>\n",
              "      <td>A group of intergalactic criminals are forced ...</td>\n",
              "      <td>James Gunn</td>\n",
              "      <td>Chris Pratt, Vin Diesel, Bradley Cooper, Zoe S...</td>\n",
              "      <td>2014</td>\n",
              "      <td>121</td>\n",
              "      <td>8.1</td>\n",
              "      <td>757074</td>\n",
              "      <td>333.130000</td>\n",
              "      <td>76.0</td>\n",
              "      <td>[a, group, of, intergalactic, criminals, are, ...</td>\n",
              "      <td>-0.050145</td>\n",
              "      <td>-0.011905</td>\n",
              "      <td>-0.108754</td>\n",
              "      <td>-0.055358</td>\n",
              "      <td>0.079037</td>\n",
              "    </tr>\n",
              "    <tr>\n",
              "      <th>1</th>\n",
              "      <td>2</td>\n",
              "      <td>Prometheus</td>\n",
              "      <td>Adventure,Mystery,Sci-Fi</td>\n",
              "      <td>Following clues to the origin of mankind, a te...</td>\n",
              "      <td>Ridley Scott</td>\n",
              "      <td>Noomi Rapace, Logan Marshall-Green, Michael Fa...</td>\n",
              "      <td>2012</td>\n",
              "      <td>124</td>\n",
              "      <td>7.0</td>\n",
              "      <td>485820</td>\n",
              "      <td>126.460000</td>\n",
              "      <td>65.0</td>\n",
              "      <td>[following, clues, to, the, origin, of, mankin...</td>\n",
              "      <td>0.083701</td>\n",
              "      <td>-0.031407</td>\n",
              "      <td>0.017762</td>\n",
              "      <td>-0.531490</td>\n",
              "      <td>0.075088</td>\n",
              "    </tr>\n",
              "    <tr>\n",
              "      <th>2</th>\n",
              "      <td>3</td>\n",
              "      <td>Split</td>\n",
              "      <td>Horror,Thriller</td>\n",
              "      <td>Three girls are kidnapped by a man with a diag...</td>\n",
              "      <td>M. Night Shyamalan</td>\n",
              "      <td>James McAvoy, Anya Taylor-Joy, Haley Lu Richar...</td>\n",
              "      <td>2016</td>\n",
              "      <td>117</td>\n",
              "      <td>7.3</td>\n",
              "      <td>157606</td>\n",
              "      <td>138.120000</td>\n",
              "      <td>62.0</td>\n",
              "      <td>[three, girls, are, kidnapped, by, a, man, wit...</td>\n",
              "      <td>0.157337</td>\n",
              "      <td>0.295756</td>\n",
              "      <td>0.053068</td>\n",
              "      <td>-0.470184</td>\n",
              "      <td>-0.028435</td>\n",
              "    </tr>\n",
              "    <tr>\n",
              "      <th>3</th>\n",
              "      <td>4</td>\n",
              "      <td>Sing</td>\n",
              "      <td>Animation,Comedy,Family</td>\n",
              "      <td>In a city of humanoid animals, a hustling thea...</td>\n",
              "      <td>Christophe Lourdelet</td>\n",
              "      <td>Matthew McConaughey,Reese Witherspoon, Seth Ma...</td>\n",
              "      <td>2016</td>\n",
              "      <td>108</td>\n",
              "      <td>7.2</td>\n",
              "      <td>60545</td>\n",
              "      <td>270.320000</td>\n",
              "      <td>59.0</td>\n",
              "      <td>[in, a, city, of, humanoid, animals,, a, hustl...</td>\n",
              "      <td>-0.049044</td>\n",
              "      <td>0.332151</td>\n",
              "      <td>0.387964</td>\n",
              "      <td>-0.781172</td>\n",
              "      <td>-0.029383</td>\n",
              "    </tr>\n",
              "    <tr>\n",
              "      <th>4</th>\n",
              "      <td>5</td>\n",
              "      <td>Suicide Squad</td>\n",
              "      <td>Action,Adventure,Fantasy</td>\n",
              "      <td>A secret government agency recruits some of th...</td>\n",
              "      <td>David Ayer</td>\n",
              "      <td>Will Smith, Jared Leto, Margot Robbie, Viola D...</td>\n",
              "      <td>2016</td>\n",
              "      <td>123</td>\n",
              "      <td>6.2</td>\n",
              "      <td>393727</td>\n",
              "      <td>325.020000</td>\n",
              "      <td>40.0</td>\n",
              "      <td>[a, secret, government, agency, recruits, some...</td>\n",
              "      <td>0.036583</td>\n",
              "      <td>0.311901</td>\n",
              "      <td>0.075132</td>\n",
              "      <td>-0.485156</td>\n",
              "      <td>0.149358</td>\n",
              "    </tr>\n",
              "    <tr>\n",
              "      <th>...</th>\n",
              "      <td>...</td>\n",
              "      <td>...</td>\n",
              "      <td>...</td>\n",
              "      <td>...</td>\n",
              "      <td>...</td>\n",
              "      <td>...</td>\n",
              "      <td>...</td>\n",
              "      <td>...</td>\n",
              "      <td>...</td>\n",
              "      <td>...</td>\n",
              "      <td>...</td>\n",
              "      <td>...</td>\n",
              "      <td>...</td>\n",
              "      <td>...</td>\n",
              "      <td>...</td>\n",
              "      <td>...</td>\n",
              "      <td>...</td>\n",
              "      <td>...</td>\n",
              "    </tr>\n",
              "    <tr>\n",
              "      <th>995</th>\n",
              "      <td>996</td>\n",
              "      <td>Secret in Their Eyes</td>\n",
              "      <td>Crime,Drama,Mystery</td>\n",
              "      <td>A tight-knit team of rising investigators, alo...</td>\n",
              "      <td>Billy Ray</td>\n",
              "      <td>Chiwetel Ejiofor, Nicole Kidman, Julia Roberts...</td>\n",
              "      <td>2015</td>\n",
              "      <td>111</td>\n",
              "      <td>6.2</td>\n",
              "      <td>27585</td>\n",
              "      <td>82.956376</td>\n",
              "      <td>45.0</td>\n",
              "      <td>[a, tight-knit, team, of, rising, investigator...</td>\n",
              "      <td>0.253390</td>\n",
              "      <td>0.384887</td>\n",
              "      <td>0.134213</td>\n",
              "      <td>-0.494408</td>\n",
              "      <td>-0.092510</td>\n",
              "    </tr>\n",
              "    <tr>\n",
              "      <th>996</th>\n",
              "      <td>997</td>\n",
              "      <td>Hostel: Part II</td>\n",
              "      <td>Horror</td>\n",
              "      <td>Three American college students studying abroa...</td>\n",
              "      <td>Eli Roth</td>\n",
              "      <td>Lauren German, Heather Matarazzo, Bijou Philli...</td>\n",
              "      <td>2007</td>\n",
              "      <td>94</td>\n",
              "      <td>5.5</td>\n",
              "      <td>73152</td>\n",
              "      <td>17.540000</td>\n",
              "      <td>46.0</td>\n",
              "      <td>[three, american, college, students, studying,...</td>\n",
              "      <td>-0.033330</td>\n",
              "      <td>0.325146</td>\n",
              "      <td>0.195590</td>\n",
              "      <td>-0.547036</td>\n",
              "      <td>0.149406</td>\n",
              "    </tr>\n",
              "    <tr>\n",
              "      <th>997</th>\n",
              "      <td>998</td>\n",
              "      <td>Step Up 2: The Streets</td>\n",
              "      <td>Drama,Music,Romance</td>\n",
              "      <td>Romantic sparks occur between two dance studen...</td>\n",
              "      <td>Jon M. Chu</td>\n",
              "      <td>Robert Hoffman, Briana Evigan, Cassie Ventura,...</td>\n",
              "      <td>2008</td>\n",
              "      <td>98</td>\n",
              "      <td>6.2</td>\n",
              "      <td>70699</td>\n",
              "      <td>58.010000</td>\n",
              "      <td>50.0</td>\n",
              "      <td>[romantic, sparks, occur, between, two, dance,...</td>\n",
              "      <td>-0.108421</td>\n",
              "      <td>0.320174</td>\n",
              "      <td>0.052072</td>\n",
              "      <td>-0.140763</td>\n",
              "      <td>-0.129928</td>\n",
              "    </tr>\n",
              "    <tr>\n",
              "      <th>998</th>\n",
              "      <td>999</td>\n",
              "      <td>Search Party</td>\n",
              "      <td>Adventure,Comedy</td>\n",
              "      <td>A pair of friends embark on a mission to reuni...</td>\n",
              "      <td>Scot Armstrong</td>\n",
              "      <td>Adam Pally, T.J. Miller, Thomas Middleditch,Sh...</td>\n",
              "      <td>2014</td>\n",
              "      <td>93</td>\n",
              "      <td>5.6</td>\n",
              "      <td>4881</td>\n",
              "      <td>82.956376</td>\n",
              "      <td>22.0</td>\n",
              "      <td>[a, pair, of, friends, embark, on, a, mission,...</td>\n",
              "      <td>-0.030535</td>\n",
              "      <td>0.166419</td>\n",
              "      <td>0.165587</td>\n",
              "      <td>-0.180988</td>\n",
              "      <td>-0.021532</td>\n",
              "    </tr>\n",
              "    <tr>\n",
              "      <th>999</th>\n",
              "      <td>1000</td>\n",
              "      <td>Nine Lives</td>\n",
              "      <td>Comedy,Family,Fantasy</td>\n",
              "      <td>A stuffy businessman finds himself trapped ins...</td>\n",
              "      <td>Barry Sonnenfeld</td>\n",
              "      <td>Kevin Spacey, Jennifer Garner, Robbie Amell,Ch...</td>\n",
              "      <td>2016</td>\n",
              "      <td>87</td>\n",
              "      <td>5.3</td>\n",
              "      <td>12435</td>\n",
              "      <td>19.640000</td>\n",
              "      <td>11.0</td>\n",
              "      <td>[a, stuffy, businessman, finds, himself, trapp...</td>\n",
              "      <td>-0.079130</td>\n",
              "      <td>0.108549</td>\n",
              "      <td>0.155845</td>\n",
              "      <td>-0.394734</td>\n",
              "      <td>0.121432</td>\n",
              "    </tr>\n",
              "  </tbody>\n",
              "</table>\n",
              "<p>1000 rows × 18 columns</p>\n",
              "</div>\n",
              "      <button class=\"colab-df-convert\" onclick=\"convertToInteractive('df-58e772d2-0762-49c3-b702-77dba3de9271')\"\n",
              "              title=\"Convert this dataframe to an interactive table.\"\n",
              "              style=\"display:none;\">\n",
              "        \n",
              "  <svg xmlns=\"http://www.w3.org/2000/svg\" height=\"24px\"viewBox=\"0 0 24 24\"\n",
              "       width=\"24px\">\n",
              "    <path d=\"M0 0h24v24H0V0z\" fill=\"none\"/>\n",
              "    <path d=\"M18.56 5.44l.94 2.06.94-2.06 2.06-.94-2.06-.94-.94-2.06-.94 2.06-2.06.94zm-11 1L8.5 8.5l.94-2.06 2.06-.94-2.06-.94L8.5 2.5l-.94 2.06-2.06.94zm10 10l.94 2.06.94-2.06 2.06-.94-2.06-.94-.94-2.06-.94 2.06-2.06.94z\"/><path d=\"M17.41 7.96l-1.37-1.37c-.4-.4-.92-.59-1.43-.59-.52 0-1.04.2-1.43.59L10.3 9.45l-7.72 7.72c-.78.78-.78 2.05 0 2.83L4 21.41c.39.39.9.59 1.41.59.51 0 1.02-.2 1.41-.59l7.78-7.78 2.81-2.81c.8-.78.8-2.07 0-2.86zM5.41 20L4 18.59l7.72-7.72 1.47 1.35L5.41 20z\"/>\n",
              "  </svg>\n",
              "      </button>\n",
              "      \n",
              "  <style>\n",
              "    .colab-df-container {\n",
              "      display:flex;\n",
              "      flex-wrap:wrap;\n",
              "      gap: 12px;\n",
              "    }\n",
              "\n",
              "    .colab-df-convert {\n",
              "      background-color: #E8F0FE;\n",
              "      border: none;\n",
              "      border-radius: 50%;\n",
              "      cursor: pointer;\n",
              "      display: none;\n",
              "      fill: #1967D2;\n",
              "      height: 32px;\n",
              "      padding: 0 0 0 0;\n",
              "      width: 32px;\n",
              "    }\n",
              "\n",
              "    .colab-df-convert:hover {\n",
              "      background-color: #E2EBFA;\n",
              "      box-shadow: 0px 1px 2px rgba(60, 64, 67, 0.3), 0px 1px 3px 1px rgba(60, 64, 67, 0.15);\n",
              "      fill: #174EA6;\n",
              "    }\n",
              "\n",
              "    [theme=dark] .colab-df-convert {\n",
              "      background-color: #3B4455;\n",
              "      fill: #D2E3FC;\n",
              "    }\n",
              "\n",
              "    [theme=dark] .colab-df-convert:hover {\n",
              "      background-color: #434B5C;\n",
              "      box-shadow: 0px 1px 3px 1px rgba(0, 0, 0, 0.15);\n",
              "      filter: drop-shadow(0px 1px 2px rgba(0, 0, 0, 0.3));\n",
              "      fill: #FFFFFF;\n",
              "    }\n",
              "  </style>\n",
              "\n",
              "      <script>\n",
              "        const buttonEl =\n",
              "          document.querySelector('#df-58e772d2-0762-49c3-b702-77dba3de9271 button.colab-df-convert');\n",
              "        buttonEl.style.display =\n",
              "          google.colab.kernel.accessAllowed ? 'block' : 'none';\n",
              "\n",
              "        async function convertToInteractive(key) {\n",
              "          const element = document.querySelector('#df-58e772d2-0762-49c3-b702-77dba3de9271');\n",
              "          const dataTable =\n",
              "            await google.colab.kernel.invokeFunction('convertToInteractive',\n",
              "                                                     [key], {});\n",
              "          if (!dataTable) return;\n",
              "\n",
              "          const docLinkHtml = 'Like what you see? Visit the ' +\n",
              "            '<a target=\"_blank\" href=https://colab.research.google.com/notebooks/data_table.ipynb>data table notebook</a>'\n",
              "            + ' to learn more about interactive tables.';\n",
              "          element.innerHTML = '';\n",
              "          dataTable['output_type'] = 'display_data';\n",
              "          await google.colab.output.renderOutput(dataTable, element);\n",
              "          const docLink = document.createElement('div');\n",
              "          docLink.innerHTML = docLinkHtml;\n",
              "          element.appendChild(docLink);\n",
              "        }\n",
              "      </script>\n",
              "    </div>\n",
              "  </div>\n",
              "  "
            ]
          },
          "metadata": {},
          "execution_count": 17
        }
      ],
      "source": [
        "result"
      ]
    },
    {
      "cell_type": "code",
      "execution_count": 101,
      "metadata": {
        "tags": [],
        "colab": {
          "base_uri": "https://localhost:8080/",
          "height": 143
        },
        "id": "yjPlKru0q6dV",
        "outputId": "bd5d703b-c833-4f7e-86c1-ad5562850206"
      },
      "outputs": [
        {
          "output_type": "execute_result",
          "data": {
            "text/plain": [
              "   Runtime (Minutes)  Year  Rating   Votes  Revenue (Millions)  Metascore  \\\n",
              "0                121  2014     8.1  757074              333.13       76.0   \n",
              "1                124  2012     7.0  485820              126.46       65.0   \n",
              "2                117  2016     7.3  157606              138.12       62.0   \n",
              "\n",
              "         v1        v2        v3        v4        v5  \n",
              "0 -0.021763  0.106451 -0.121216 -0.075370  0.016032  \n",
              "1  0.081098  0.017959 -0.019524 -0.427588  0.001407  \n",
              "2  0.215759  0.485485  0.027760 -0.473435 -0.153536  "
            ],
            "text/html": [
              "\n",
              "  <div id=\"df-34bb888d-8685-456c-8860-4ca897e15bb1\">\n",
              "    <div class=\"colab-df-container\">\n",
              "      <div>\n",
              "<style scoped>\n",
              "    .dataframe tbody tr th:only-of-type {\n",
              "        vertical-align: middle;\n",
              "    }\n",
              "\n",
              "    .dataframe tbody tr th {\n",
              "        vertical-align: top;\n",
              "    }\n",
              "\n",
              "    .dataframe thead th {\n",
              "        text-align: right;\n",
              "    }\n",
              "</style>\n",
              "<table border=\"1\" class=\"dataframe\">\n",
              "  <thead>\n",
              "    <tr style=\"text-align: right;\">\n",
              "      <th></th>\n",
              "      <th>Runtime (Minutes)</th>\n",
              "      <th>Year</th>\n",
              "      <th>Rating</th>\n",
              "      <th>Votes</th>\n",
              "      <th>Revenue (Millions)</th>\n",
              "      <th>Metascore</th>\n",
              "      <th>v1</th>\n",
              "      <th>v2</th>\n",
              "      <th>v3</th>\n",
              "      <th>v4</th>\n",
              "      <th>v5</th>\n",
              "    </tr>\n",
              "  </thead>\n",
              "  <tbody>\n",
              "    <tr>\n",
              "      <th>0</th>\n",
              "      <td>121</td>\n",
              "      <td>2014</td>\n",
              "      <td>8.1</td>\n",
              "      <td>757074</td>\n",
              "      <td>333.13</td>\n",
              "      <td>76.0</td>\n",
              "      <td>-0.021763</td>\n",
              "      <td>0.106451</td>\n",
              "      <td>-0.121216</td>\n",
              "      <td>-0.075370</td>\n",
              "      <td>0.016032</td>\n",
              "    </tr>\n",
              "    <tr>\n",
              "      <th>1</th>\n",
              "      <td>124</td>\n",
              "      <td>2012</td>\n",
              "      <td>7.0</td>\n",
              "      <td>485820</td>\n",
              "      <td>126.46</td>\n",
              "      <td>65.0</td>\n",
              "      <td>0.081098</td>\n",
              "      <td>0.017959</td>\n",
              "      <td>-0.019524</td>\n",
              "      <td>-0.427588</td>\n",
              "      <td>0.001407</td>\n",
              "    </tr>\n",
              "    <tr>\n",
              "      <th>2</th>\n",
              "      <td>117</td>\n",
              "      <td>2016</td>\n",
              "      <td>7.3</td>\n",
              "      <td>157606</td>\n",
              "      <td>138.12</td>\n",
              "      <td>62.0</td>\n",
              "      <td>0.215759</td>\n",
              "      <td>0.485485</td>\n",
              "      <td>0.027760</td>\n",
              "      <td>-0.473435</td>\n",
              "      <td>-0.153536</td>\n",
              "    </tr>\n",
              "  </tbody>\n",
              "</table>\n",
              "</div>\n",
              "      <button class=\"colab-df-convert\" onclick=\"convertToInteractive('df-34bb888d-8685-456c-8860-4ca897e15bb1')\"\n",
              "              title=\"Convert this dataframe to an interactive table.\"\n",
              "              style=\"display:none;\">\n",
              "        \n",
              "  <svg xmlns=\"http://www.w3.org/2000/svg\" height=\"24px\"viewBox=\"0 0 24 24\"\n",
              "       width=\"24px\">\n",
              "    <path d=\"M0 0h24v24H0V0z\" fill=\"none\"/>\n",
              "    <path d=\"M18.56 5.44l.94 2.06.94-2.06 2.06-.94-2.06-.94-.94-2.06-.94 2.06-2.06.94zm-11 1L8.5 8.5l.94-2.06 2.06-.94-2.06-.94L8.5 2.5l-.94 2.06-2.06.94zm10 10l.94 2.06.94-2.06 2.06-.94-2.06-.94-.94-2.06-.94 2.06-2.06.94z\"/><path d=\"M17.41 7.96l-1.37-1.37c-.4-.4-.92-.59-1.43-.59-.52 0-1.04.2-1.43.59L10.3 9.45l-7.72 7.72c-.78.78-.78 2.05 0 2.83L4 21.41c.39.39.9.59 1.41.59.51 0 1.02-.2 1.41-.59l7.78-7.78 2.81-2.81c.8-.78.8-2.07 0-2.86zM5.41 20L4 18.59l7.72-7.72 1.47 1.35L5.41 20z\"/>\n",
              "  </svg>\n",
              "      </button>\n",
              "      \n",
              "  <style>\n",
              "    .colab-df-container {\n",
              "      display:flex;\n",
              "      flex-wrap:wrap;\n",
              "      gap: 12px;\n",
              "    }\n",
              "\n",
              "    .colab-df-convert {\n",
              "      background-color: #E8F0FE;\n",
              "      border: none;\n",
              "      border-radius: 50%;\n",
              "      cursor: pointer;\n",
              "      display: none;\n",
              "      fill: #1967D2;\n",
              "      height: 32px;\n",
              "      padding: 0 0 0 0;\n",
              "      width: 32px;\n",
              "    }\n",
              "\n",
              "    .colab-df-convert:hover {\n",
              "      background-color: #E2EBFA;\n",
              "      box-shadow: 0px 1px 2px rgba(60, 64, 67, 0.3), 0px 1px 3px 1px rgba(60, 64, 67, 0.15);\n",
              "      fill: #174EA6;\n",
              "    }\n",
              "\n",
              "    [theme=dark] .colab-df-convert {\n",
              "      background-color: #3B4455;\n",
              "      fill: #D2E3FC;\n",
              "    }\n",
              "\n",
              "    [theme=dark] .colab-df-convert:hover {\n",
              "      background-color: #434B5C;\n",
              "      box-shadow: 0px 1px 3px 1px rgba(0, 0, 0, 0.15);\n",
              "      filter: drop-shadow(0px 1px 2px rgba(0, 0, 0, 0.3));\n",
              "      fill: #FFFFFF;\n",
              "    }\n",
              "  </style>\n",
              "\n",
              "      <script>\n",
              "        const buttonEl =\n",
              "          document.querySelector('#df-34bb888d-8685-456c-8860-4ca897e15bb1 button.colab-df-convert');\n",
              "        buttonEl.style.display =\n",
              "          google.colab.kernel.accessAllowed ? 'block' : 'none';\n",
              "\n",
              "        async function convertToInteractive(key) {\n",
              "          const element = document.querySelector('#df-34bb888d-8685-456c-8860-4ca897e15bb1');\n",
              "          const dataTable =\n",
              "            await google.colab.kernel.invokeFunction('convertToInteractive',\n",
              "                                                     [key], {});\n",
              "          if (!dataTable) return;\n",
              "\n",
              "          const docLinkHtml = 'Like what you see? Visit the ' +\n",
              "            '<a target=\"_blank\" href=https://colab.research.google.com/notebooks/data_table.ipynb>data table notebook</a>'\n",
              "            + ' to learn more about interactive tables.';\n",
              "          element.innerHTML = '';\n",
              "          dataTable['output_type'] = 'display_data';\n",
              "          await google.colab.output.renderOutput(dataTable, element);\n",
              "          const docLink = document.createElement('div');\n",
              "          docLink.innerHTML = docLinkHtml;\n",
              "          element.appendChild(docLink);\n",
              "        }\n",
              "      </script>\n",
              "    </div>\n",
              "  </div>\n",
              "  "
            ]
          },
          "metadata": {},
          "execution_count": 101
        }
      ],
      "source": [
        "# переопределим датасет, оставив только важное\n",
        "\n",
        "data_sm = result[['Runtime (Minutes)',\"Year\",\n",
        "                'Rating', 'Votes',\n",
        "                'Revenue (Millions)','Metascore','v1', 'v2', 'v3','v4',\"v5\"]\n",
        "              ]\n",
        "\n",
        "\n",
        "data_sm.head(3)"
      ]
    },
    {
      "cell_type": "markdown",
      "metadata": {
        "id": "Ru7qCSyoq6dV"
      },
      "source": [
        "## Подготавливаем матрицы"
      ]
    },
    {
      "cell_type": "code",
      "execution_count": 102,
      "metadata": {
        "tags": [],
        "colab": {
          "base_uri": "https://localhost:8080/",
          "height": 270
        },
        "id": "aC1EoqVUq6dV",
        "outputId": "b19cd1f7-8089-4520-93f6-835f7de0de65"
      },
      "outputs": [
        {
          "output_type": "display_data",
          "data": {
            "text/plain": [
              "array([[ 1.21000000e+02,  2.01400000e+03,  7.57074000e+05, ...,\n",
              "        -1.21216185e-01, -7.53701478e-02,  1.60315223e-02],\n",
              "       [ 1.24000000e+02,  2.01200000e+03,  4.85820000e+05, ...,\n",
              "        -1.95235666e-02, -4.27588463e-01,  1.40741654e-03],\n",
              "       [ 1.17000000e+02,  2.01600000e+03,  1.57606000e+05, ...,\n",
              "         2.77595092e-02, -4.73434716e-01, -1.53536499e-01],\n",
              "       ...,\n",
              "       [ 9.80000000e+01,  2.00800000e+03,  7.06990000e+04, ...,\n",
              "        -2.41294969e-03, -7.09009357e-03, -2.05610499e-01],\n",
              "       [ 9.30000000e+01,  2.01400000e+03,  4.88100000e+03, ...,\n",
              "         1.48509011e-01, -1.86417475e-01, -7.98363611e-02],\n",
              "       [ 8.70000000e+01,  2.01600000e+03,  1.24350000e+04, ...,\n",
              "         1.55649811e-01, -4.27935869e-01,  4.07249816e-02]])"
            ]
          },
          "metadata": {}
        },
        {
          "output_type": "display_data",
          "data": {
            "text/plain": [
              "(1000, 10)"
            ]
          },
          "metadata": {}
        }
      ],
      "source": [
        "# определяем X и y\n",
        "\n",
        "X = data_sm.drop([\"Rating\"],axis=1).values \n",
        "\n",
        "display(X, X.shape)"
      ]
    },
    {
      "cell_type": "code",
      "execution_count": 20,
      "metadata": {
        "colab": {
          "base_uri": "https://localhost:8080/"
        },
        "id": "Y1KlavIPq6dV",
        "outputId": "6e379b64-0e92-4631-a4fd-b150668aeaf5"
      },
      "outputs": [
        {
          "output_type": "execute_result",
          "data": {
            "text/plain": [
              "Runtime (Minutes)     False\n",
              "Year                  False\n",
              "Rating                False\n",
              "Votes                 False\n",
              "Revenue (Millions)    False\n",
              "Metascore             False\n",
              "v1                    False\n",
              "v2                    False\n",
              "v3                    False\n",
              "v4                    False\n",
              "v5                    False\n",
              "dtype: bool"
            ]
          },
          "metadata": {},
          "execution_count": 20
        }
      ],
      "source": [
        "data_sm.isna().any()"
      ]
    },
    {
      "cell_type": "code",
      "execution_count": 103,
      "metadata": {
        "tags": [],
        "colab": {
          "base_uri": "https://localhost:8080/"
        },
        "id": "2fmALhUqq6dW",
        "outputId": "aa786f6e-9f61-44e8-81f0-abdf95e17469"
      },
      "outputs": [
        {
          "output_type": "execute_result",
          "data": {
            "text/plain": [
              "(1000,)"
            ]
          },
          "metadata": {},
          "execution_count": 103
        }
      ],
      "source": [
        "y = data_sm['Rating'].values # отдельно вынесли массив со значениями скорости ветра\n",
        "y.shape"
      ]
    },
    {
      "cell_type": "markdown",
      "metadata": {
        "id": "8x0AJYvjq6dW"
      },
      "source": [
        "Иногда бывает полезно [нормализовать](https://en.wikipedia.org/wiki/Normalization_(statistics)) данные: это позволяет исправить ситуацию, когда признаки представлены в разных единацах измерения. \n",
        "Для этого используется StandardScaler. "
      ]
    },
    {
      "cell_type": "markdown",
      "metadata": {
        "id": "RQMt_GRRq6dW"
      },
      "source": [
        "До нормализации:"
      ]
    },
    {
      "cell_type": "code",
      "execution_count": 22,
      "metadata": {
        "colab": {
          "base_uri": "https://localhost:8080/"
        },
        "id": "Nr8fw9ssq6dW",
        "outputId": "fe00afbc-b57a-4033-8c52-af54fbd4b08a"
      },
      "outputs": [
        {
          "output_type": "execute_result",
          "data": {
            "text/plain": [
              "[121.0,\n",
              " 2014.0,\n",
              " 757074.0,\n",
              " 333.13,\n",
              " 76.0,\n",
              " -0.050145380198955536,\n",
              " -0.011905302293598652,\n",
              " -0.10875413566827774,\n",
              " -0.05535794794559479,\n",
              " 0.07903745770454407]"
            ]
          },
          "metadata": {},
          "execution_count": 22
        }
      ],
      "source": [
        "list(X[0])"
      ]
    },
    {
      "cell_type": "code",
      "execution_count": 104,
      "metadata": {
        "id": "rtzjvyQ7q6dX"
      },
      "outputs": [],
      "source": [
        "# использзуем стандартизатор\n",
        "sc = StandardScaler()\n",
        "\n",
        "X_train, X_test, y_train, y_test = train_test_split(sc.fit_transform(X), y, random_state=42)"
      ]
    },
    {
      "cell_type": "markdown",
      "metadata": {
        "id": "tu4SAiw0q6dX"
      },
      "source": [
        "После:"
      ]
    },
    {
      "cell_type": "code",
      "execution_count": 24,
      "metadata": {
        "colab": {
          "base_uri": "https://localhost:8080/"
        },
        "id": "qnCW2MfHq6dX",
        "outputId": "717421ef-1863-4e0b-d505-47596372ca49"
      },
      "outputs": [
        {
          "output_type": "execute_result",
          "data": {
            "text/plain": [
              "[0.4163497512303056,\n",
              " 0.37979525138136244,\n",
              " 3.1126899627963738,\n",
              " 2.5961363010556906,\n",
              " 1.0233613578368184,\n",
              " -1.3801969745484304,\n",
              " -1.8414515823153261,\n",
              " -2.2349698896946917,\n",
              " 2.182290534870191,\n",
              " 0.33313671367619974]"
            ]
          },
          "metadata": {},
          "execution_count": 24
        }
      ],
      "source": [
        "list(sc.fit_transform(X)[0])"
      ]
    },
    {
      "cell_type": "markdown",
      "metadata": {
        "id": "LRR8xq4Vq6dX"
      },
      "source": [
        "теперь с данными удобнее работать и обучать"
      ]
    },
    {
      "cell_type": "code",
      "execution_count": 105,
      "metadata": {
        "tags": [],
        "colab": {
          "base_uri": "https://localhost:8080/"
        },
        "id": "KoTzOMkIq6dY",
        "outputId": "d7a18741-1db7-45c1-ef66-ca261062f698"
      },
      "outputs": [
        {
          "output_type": "execute_result",
          "data": {
            "text/plain": [
              "Ridge()"
            ]
          },
          "metadata": {},
          "execution_count": 105
        }
      ],
      "source": [
        "# задаем модель регрессора\n",
        "# силу регуляризации можно варьировать параметром alpha\n",
        "regressor = Ridge() \n",
        "\n",
        "\n",
        "# обучаем\n",
        "regressor.fit(X_train, y_train)"
      ]
    },
    {
      "cell_type": "code",
      "execution_count": 106,
      "metadata": {
        "id": "3m8zHOB8q6dY"
      },
      "outputs": [],
      "source": [
        "# давайте предскажем результат для тестовой выборки\n",
        "\n",
        "y_preds = regressor.predict(X_test)"
      ]
    },
    {
      "cell_type": "markdown",
      "metadata": {
        "id": "fEu4sgXsq6dY"
      },
      "source": [
        "### оценка результатов алгоритма\n",
        "\n",
        "В качестве метрики будем использовать [среднюю абсолютную ошибку](https://www.youtube.com/watch?v=ZejnwbcU8nw). Она показывает отклонение от правильного ответа в тех же единах измерения\n",
        "\n",
        "*(а вообще есть [разные способы](https://towardsdatascience.com/what-are-the-best-metrics-to-evaluate-your-regression-model-418ca481755b))*"
      ]
    },
    {
      "cell_type": "code",
      "execution_count": 27,
      "metadata": {
        "colab": {
          "base_uri": "https://localhost:8080/"
        },
        "id": "J3IiuQLRq6dY",
        "outputId": "4e671311-585a-47c2-e294-1fb0f17d6243"
      },
      "outputs": [
        {
          "output_type": "execute_result",
          "data": {
            "text/plain": [
              "0.4996954350084848"
            ]
          },
          "metadata": {},
          "execution_count": 27
        }
      ],
      "source": [
        "mean_absolute_error(y_test, y_preds) "
      ]
    },
    {
      "cell_type": "markdown",
      "metadata": {
        "id": "cJvB65zqq6dZ"
      },
      "source": [
        "Попробуйте разные значения для параметра регуляризации alpha при обучении модели. Как они влияют на величину ошибки?"
      ]
    },
    {
      "cell_type": "markdown",
      "source": [
        "## Домашнее задание"
      ],
      "metadata": {
        "id": "yQr5RKnSPjOj"
      }
    },
    {
      "cell_type": "code",
      "source": [
        "import math"
      ],
      "metadata": {
        "id": "hH6P89rer9JL"
      },
      "execution_count": 28,
      "outputs": []
    },
    {
      "cell_type": "code",
      "source": [
        "def metrics(y_test, y_preds):\n",
        "  mae = mean_absolute_error(y_test, y_preds) \n",
        "  mse = mean_squared_error(y_test, y_preds) \n",
        "  rmse = math.sqrt(mean_squared_error(y_test, y_preds))\n",
        "  return(f'MAE = {mae:.4f}, MSE = {mse:.4f}, RMSE = {rmse:.4f}')"
      ],
      "metadata": {
        "id": "T64v1M9AReI0"
      },
      "execution_count": 179,
      "outputs": []
    },
    {
      "cell_type": "code",
      "source": [
        "# Результаты семинара\n",
        "metrics(y_test, y_preds)"
      ],
      "metadata": {
        "colab": {
          "base_uri": "https://localhost:8080/"
        },
        "id": "9FrMHZltRtm0",
        "outputId": "b9940c5e-ab48-4d5f-83f9-2972903c43c7"
      },
      "execution_count": 107,
      "outputs": [
        {
          "output_type": "stream",
          "name": "stdout",
          "text": [
            "MAE = 0.4993, MSE = 0.4732, RMSE = 0.6879\n"
          ]
        }
      ]
    },
    {
      "cell_type": "markdown",
      "source": [
        "### Пунктуация"
      ],
      "metadata": {
        "id": "euzJ1v0pRerf"
      }
    },
    {
      "cell_type": "code",
      "source": [
        "from string import punctuation\n",
        "def preprocess(text):\n",
        "    tokens = text.lower().split()\n",
        "    tokens = [token.strip(punctuation) for token in tokens]\n",
        "    return tokens"
      ],
      "metadata": {
        "id": "CRLincenQgM7"
      },
      "execution_count": 108,
      "outputs": []
    },
    {
      "cell_type": "code",
      "source": [
        "data[\"text\"] = data.Description.apply(preprocess) \n",
        "input_text = list(data.text.values)"
      ],
      "metadata": {
        "id": "XgJUA8iSSDRc"
      },
      "execution_count": 159,
      "outputs": []
    },
    {
      "cell_type": "code",
      "source": [
        "def return_result(input_text, vector_size=5, window=2, min_count=1, workers=4):\n",
        "  documents = [TaggedDocument(doc, [i]) for i, doc in enumerate(input_text)]\n",
        "  model = Doc2Vec(documents, vector_size=vector_size, window=window, min_count=min_count, workers=workers)\n",
        "  vectors = []\n",
        "  for x in documents:\n",
        "      vec = list(model.dv[x.tags][0])\n",
        "      vectors.append(vec)\n",
        "  split_df = pd.DataFrame(vectors,\n",
        "                          columns=['v1', 'v2', 'v3','v4',\"v5\"])\n",
        "  result = data.join(split_df, how='left')\n",
        "  data_sm = result[['Runtime (Minutes)',\"Year\",\n",
        "                  'Rating', 'Votes',\n",
        "                  'Revenue (Millions)','Metascore','v1', 'v2', 'v3','v4',\"v5\"]\n",
        "                ]\n",
        "  X = data_sm.drop([\"Rating\"],axis=1).values \n",
        "  y = data_sm['Rating'].values \n",
        "\n",
        "  sc = StandardScaler()\n",
        "  X_train, X_test, y_train, y_test = train_test_split(sc.fit_transform(X), y, random_state=42)\n",
        "  regressor = Ridge() \n",
        "  regressor.fit(X_train, y_train)\n",
        "  y_preds = regressor.predict(X_test)\n",
        "  return metrics(y_test, y_preds)"
      ],
      "metadata": {
        "id": "-H0A2-HqSQ_a"
      },
      "execution_count": 160,
      "outputs": []
    },
    {
      "cell_type": "code",
      "source": [
        "return_result(input_text)"
      ],
      "metadata": {
        "colab": {
          "base_uri": "https://localhost:8080/"
        },
        "id": "8kV9-Ae4Us2B",
        "outputId": "a132883e-375e-4183-c0fe-d2440943edd4"
      },
      "execution_count": 162,
      "outputs": [
        {
          "output_type": "stream",
          "name": "stdout",
          "text": [
            "MAE = 0.4997, MSE = 0.4753, RMSE = 0.6894\n"
          ]
        }
      ]
    },
    {
      "cell_type": "markdown",
      "source": [
        "Удаление пунктуации почти не повлияло - MAE увеличилась на 0.0004"
      ],
      "metadata": {
        "id": "d-n9TUg9TPwg"
      }
    },
    {
      "cell_type": "markdown",
      "source": [
        "### Без нормализации\n"
      ],
      "metadata": {
        "id": "jDeC5XgZTlDI"
      }
    },
    {
      "cell_type": "code",
      "source": [
        "X = data_sm.drop([\"Rating\"],axis=1).values \n",
        "y = data_sm['Rating'].values \n",
        "\n",
        "X_train, X_test, y_train, y_test = train_test_split(X, y, random_state=42)\n",
        "\n",
        "regressor = Ridge() \n",
        "regressor.fit(X_train, y_train)\n",
        "y_preds = regressor.predict(X_test)"
      ],
      "metadata": {
        "id": "LnK4U9mnTdTq"
      },
      "execution_count": 163,
      "outputs": []
    },
    {
      "cell_type": "code",
      "source": [
        "metrics(y_test, y_preds)"
      ],
      "metadata": {
        "colab": {
          "base_uri": "https://localhost:8080/"
        },
        "id": "wjlsOZDcTpmY",
        "outputId": "717bc379-10a4-412c-b483-8d5ad232bf2a"
      },
      "execution_count": 164,
      "outputs": [
        {
          "output_type": "stream",
          "name": "stdout",
          "text": [
            "MAE = 0.4980, MSE = 0.4720, RMSE = 0.6870\n"
          ]
        }
      ]
    },
    {
      "cell_type": "markdown",
      "source": [
        "На удивление, без нормализации результат (совсем немного) лучше: MAE на 0,001 ниже."
      ],
      "metadata": {
        "id": "agF-pXO6T3v-"
      }
    },
    {
      "cell_type": "markdown",
      "source": [
        "### Разные параметры модели"
      ],
      "metadata": {
        "id": "sHSRGERUUHjj"
      }
    },
    {
      "cell_type": "code",
      "source": [
        "# Поизменяем размер окна\n",
        "windows = [1, 3, 5, 8, 10, 20]\n",
        "for w in windows:\n",
        "  res = return_result(input_text, vector_size=5, window=w, min_count=1, workers=4)\n",
        "  print(f'Window={w}', res)"
      ],
      "metadata": {
        "colab": {
          "base_uri": "https://localhost:8080/"
        },
        "id": "Cfum9GuzUDYS",
        "outputId": "40bf15f4-e188-405f-9f99-39bb64e9dfd2"
      },
      "execution_count": 180,
      "outputs": [
        {
          "output_type": "stream",
          "name": "stdout",
          "text": [
            "Window=1 MAE = 0.5002, MSE = 0.4756, RMSE = 0.6896\n",
            "Window=3 MAE = 0.5003, MSE = 0.4753, RMSE = 0.6894\n",
            "Window=5 MAE = 0.4986, MSE = 0.4739, RMSE = 0.6884\n",
            "Window=8 MAE = 0.4981, MSE = 0.4723, RMSE = 0.6873\n",
            "Window=10 MAE = 0.4995, MSE = 0.4753, RMSE = 0.6894\n",
            "Window=20 MAE = 0.4985, MSE = 0.4741, RMSE = 0.6885\n"
          ]
        }
      ]
    },
    {
      "cell_type": "markdown",
      "source": [
        "Самая низкая MAE при окне 8.\n"
      ],
      "metadata": {
        "id": "cy_uulrgVzLY"
      }
    },
    {
      "cell_type": "code",
      "source": [
        "# Поизменяем минимальную частоту встречаемости\n",
        "m_count = [1, 3, 5, 8, 10, 20, 50]\n",
        "for m in m_count:\n",
        "  res = return_result(input_text, vector_size=5, window=2, min_count=m, workers=4)\n",
        "  print(f'Min count={m}', res)"
      ],
      "metadata": {
        "colab": {
          "base_uri": "https://localhost:8080/"
        },
        "id": "MLWI3Kj8gdCA",
        "outputId": "e3bc82c6-339a-4359-cb79-417a03a61880"
      },
      "execution_count": 182,
      "outputs": [
        {
          "output_type": "stream",
          "name": "stdout",
          "text": [
            "Min count=1 MAE = 0.4983, MSE = 0.4749, RMSE = 0.6892\n",
            "Min count=3 MAE = 0.4994, MSE = 0.4760, RMSE = 0.6899\n",
            "Min count=5 MAE = 0.4997, MSE = 0.4763, RMSE = 0.6901\n",
            "Min count=8 MAE = 0.4987, MSE = 0.4751, RMSE = 0.6893\n",
            "Min count=10 MAE = 0.4983, MSE = 0.4751, RMSE = 0.6892\n",
            "Min count=20 MAE = 0.4978, MSE = 0.4764, RMSE = 0.6902\n",
            "Min count=50 MAE = 0.5000, MSE = 0.4765, RMSE = 0.6903\n"
          ]
        }
      ]
    },
    {
      "cell_type": "markdown",
      "source": [
        "Самый лучший результат при минимальной частоте встречаемости = 20 - позволяет фильтровать самые редкие слова."
      ],
      "metadata": {
        "id": "nBu16oYvhbsa"
      }
    },
    {
      "cell_type": "code",
      "source": [
        "# А теперь число workers\n",
        "workers = [1, 3, 5, 8, 10, 20, 50]\n",
        "for w in workers:\n",
        "  res = return_result(input_text, vector_size=5, window=2, min_count=1, workers=w)\n",
        "  print(f'Workers={w}', res)"
      ],
      "metadata": {
        "colab": {
          "base_uri": "https://localhost:8080/"
        },
        "id": "3vyv25rehEAj",
        "outputId": "71547f14-ba06-47e1-d357-91f9fab725f0"
      },
      "execution_count": 183,
      "outputs": [
        {
          "output_type": "stream",
          "name": "stdout",
          "text": [
            "Workers=1 MAE = 0.5002, MSE = 0.4743, RMSE = 0.6887\n",
            "Workers=3 MAE = 0.5001, MSE = 0.4754, RMSE = 0.6895\n",
            "Workers=5 MAE = 0.4996, MSE = 0.4742, RMSE = 0.6886\n",
            "Workers=8 MAE = 0.4999, MSE = 0.4745, RMSE = 0.6889\n",
            "Workers=10 MAE = 0.4985, MSE = 0.4736, RMSE = 0.6882\n",
            "Workers=20 MAE = 0.4986, MSE = 0.4749, RMSE = 0.6891\n",
            "Workers=50 MAE = 0.4991, MSE = 0.4738, RMSE = 0.6883\n"
          ]
        }
      ]
    },
    {
      "cell_type": "markdown",
      "source": [
        "Увеличение числа workers идет на пользу: самая низкая MAE при числе workers=10."
      ],
      "metadata": {
        "id": "vgSN5qeDhc5O"
      }
    },
    {
      "cell_type": "markdown",
      "source": [
        "### Разные параметры alpha для Ridge"
      ],
      "metadata": {
        "id": "iKmljTyMhx0d"
      }
    },
    {
      "cell_type": "code",
      "source": [
        "X_train, X_test, y_train, y_test = train_test_split(sc.fit_transform(X), y, random_state=42)"
      ],
      "metadata": {
        "id": "CX-D34M5h6gX"
      },
      "execution_count": 191,
      "outputs": []
    },
    {
      "cell_type": "code",
      "source": [
        "def do_ridge_regression(n):\n",
        "  regressor = Ridge(n) \n",
        "  regressor.fit(X_train, y_train)\n",
        "  y_preds1 = regressor.predict(X_test)\n",
        "  return metrics(y_test, y_preds1)\n"
      ],
      "metadata": {
        "id": "-C9sw1fnh8Xq"
      },
      "execution_count": 192,
      "outputs": []
    },
    {
      "cell_type": "code",
      "source": [
        "alphas = [0.001, 0.01, 0.1, 0.5, 1, 2, 5, 10, 20, 50, 100, 1000, 2000, 5000]\n",
        "for a in alphas:\n",
        "  print(f'Alpha={a}', do_ridge_regression(a))"
      ],
      "metadata": {
        "colab": {
          "base_uri": "https://localhost:8080/"
        },
        "id": "PWMD0sgYiJJS",
        "outputId": "004f4b01-21fa-4011-c879-0b55ce329497"
      },
      "execution_count": 197,
      "outputs": [
        {
          "output_type": "stream",
          "name": "stdout",
          "text": [
            "Alpha=0.001 MAE = 0.4994, MSE = 0.4731, RMSE = 0.6878\n",
            "Alpha=0.01 MAE = 0.4994, MSE = 0.4731, RMSE = 0.6878\n",
            "Alpha=0.1 MAE = 0.4994, MSE = 0.4731, RMSE = 0.6878\n",
            "Alpha=0.5 MAE = 0.4994, MSE = 0.4731, RMSE = 0.6878\n",
            "Alpha=1 MAE = 0.4993, MSE = 0.4732, RMSE = 0.6879\n",
            "Alpha=2 MAE = 0.4993, MSE = 0.4732, RMSE = 0.6879\n",
            "Alpha=5 MAE = 0.4991, MSE = 0.4734, RMSE = 0.6880\n",
            "Alpha=10 MAE = 0.4989, MSE = 0.4737, RMSE = 0.6883\n",
            "Alpha=20 MAE = 0.4986, MSE = 0.4745, RMSE = 0.6888\n",
            "Alpha=50 MAE = 0.4983, MSE = 0.4771, RMSE = 0.6907\n",
            "Alpha=100 MAE = 0.4994, MSE = 0.4823, RMSE = 0.6945\n",
            "Alpha=1000 MAE = 0.5661, MSE = 0.5966, RMSE = 0.7724\n",
            "Alpha=2000 MAE = 0.6218, MSE = 0.6825, RMSE = 0.8262\n",
            "Alpha=5000 MAE = 0.6906, MSE = 0.8027, RMSE = 0.8960\n"
          ]
        }
      ]
    },
    {
      "cell_type": "markdown",
      "source": [
        "При alpha от 0 до 100 нет значительной разницы в результатах, но самая низкая MAE при alpha=50.\n",
        "Однако при alpha>=1000 величина средней ошибки значительно увеличивается."
      ],
      "metadata": {
        "id": "0OdVjDMsi4Ec"
      }
    },
    {
      "cell_type": "markdown",
      "source": [
        "### Linear Regression"
      ],
      "metadata": {
        "id": "d6yKFsBM0uwX"
      }
    },
    {
      "cell_type": "code",
      "source": [
        "regressor = LinearRegression()\n",
        "regressor.fit(X_train, y_train)\n",
        "y_preds = regressor.predict(X_test)"
      ],
      "metadata": {
        "id": "NPSPZE2g0tm6"
      },
      "execution_count": 198,
      "outputs": []
    },
    {
      "cell_type": "code",
      "source": [
        "metrics(y_test, y_preds)"
      ],
      "metadata": {
        "id": "ef3JQrFG1Mrf",
        "outputId": "d36d90dc-564e-43c6-978f-f3c4ca0febad",
        "colab": {
          "base_uri": "https://localhost:8080/",
          "height": 36
        }
      },
      "execution_count": 199,
      "outputs": [
        {
          "output_type": "execute_result",
          "data": {
            "text/plain": [
              "'MAE = 0.4994, MSE = 0.4731, RMSE = 0.6878'"
            ],
            "application/vnd.google.colaboratory.intrinsic+json": {
              "type": "string"
            }
          },
          "metadata": {},
          "execution_count": 199
        }
      ]
    },
    {
      "cell_type": "markdown",
      "source": [
        "Величина ошибки сопоставима с ошибкой у Ridge."
      ],
      "metadata": {
        "id": "wC0yAJqY17q3"
      }
    },
    {
      "cell_type": "markdown",
      "source": [
        "### Lasso"
      ],
      "metadata": {
        "id": "IKJg0MVg1Dc_"
      }
    },
    {
      "cell_type": "code",
      "source": [
        "def do_lasso_regression(n):\n",
        "  regressor = Lasso(n)\n",
        "  regressor.fit(X_train, y_train)\n",
        "  y_preds = regressor.predict(X_test)\n",
        "  return metrics(y_test, y_preds)"
      ],
      "metadata": {
        "id": "nlrWQmhs1RPj"
      },
      "execution_count": 201,
      "outputs": []
    },
    {
      "cell_type": "code",
      "source": [
        "alphas = [0.001, 0.01, 0.1, 0.5, 1, 2, 5, 10, 20, 50, 100, 1000, 2000, 5000]\n",
        "for a in alphas:\n",
        "  print(f'Alpha={a}', do_lasso_regression(a))"
      ],
      "metadata": {
        "colab": {
          "base_uri": "https://localhost:8080/"
        },
        "id": "FPK5NNE1joc4",
        "outputId": "8615b5bd-242e-4c94-9b1d-62451d19d45e"
      },
      "execution_count": 202,
      "outputs": [
        {
          "output_type": "stream",
          "name": "stdout",
          "text": [
            "Alpha=0.001 MAE = 0.4986, MSE = 0.4726, RMSE = 0.6875\n",
            "Alpha=0.01 MAE = 0.4941, MSE = 0.4713, RMSE = 0.6865\n",
            "Alpha=0.1 MAE = 0.4971, MSE = 0.4956, RMSE = 0.7040\n",
            "Alpha=0.5 MAE = 0.7475, MSE = 0.9174, RMSE = 0.9578\n",
            "Alpha=1 MAE = 0.7736, MSE = 0.9734, RMSE = 0.9866\n",
            "Alpha=2 MAE = 0.7736, MSE = 0.9734, RMSE = 0.9866\n",
            "Alpha=5 MAE = 0.7736, MSE = 0.9734, RMSE = 0.9866\n",
            "Alpha=10 MAE = 0.7736, MSE = 0.9734, RMSE = 0.9866\n",
            "Alpha=20 MAE = 0.7736, MSE = 0.9734, RMSE = 0.9866\n",
            "Alpha=50 MAE = 0.7736, MSE = 0.9734, RMSE = 0.9866\n",
            "Alpha=100 MAE = 0.7736, MSE = 0.9734, RMSE = 0.9866\n",
            "Alpha=1000 MAE = 0.7736, MSE = 0.9734, RMSE = 0.9866\n",
            "Alpha=2000 MAE = 0.7736, MSE = 0.9734, RMSE = 0.9866\n",
            "Alpha=5000 MAE = 0.7736, MSE = 0.9734, RMSE = 0.9866\n"
          ]
        }
      ]
    },
    {
      "cell_type": "markdown",
      "source": [
        "Для Lasso полходят только совсем маленькие alpha (<=0.1). При больших alpha величина средней ошибки резко растет и становится значительно выше, чем была у ridge regression."
      ],
      "metadata": {
        "id": "Kmhanpzc1U8x"
      }
    }
  ],
  "metadata": {
    "kernelspec": {
      "display_name": "Python 3 (ipykernel)",
      "language": "python",
      "name": "python3"
    },
    "language_info": {
      "codemirror_mode": {
        "name": "ipython",
        "version": 3
      },
      "file_extension": ".py",
      "mimetype": "text/x-python",
      "name": "python",
      "nbconvert_exporter": "python",
      "pygments_lexer": "ipython3",
      "version": "3.10.0"
    },
    "colab": {
      "provenance": []
    },
    "accelerator": "GPU",
    "gpuClass": "standard"
  },
  "nbformat": 4,
  "nbformat_minor": 0
}